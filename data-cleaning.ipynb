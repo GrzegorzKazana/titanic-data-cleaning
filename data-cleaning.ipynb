{
 "cells": [
  {
   "cell_type": "markdown",
   "id": "d68cd001",
   "metadata": {},
   "source": [
    "# Czyszczenie danych i przygotowanie zbioru do analizy\n",
    "\n",
    "W celu wstępnego zorientowania się w formacie otrzymanego pliku, możemy skorzystać z polecenia `head` które wczyta wskazaną ilość wierszy z początku pliku."
   ]
  },
  {
   "cell_type": "code",
   "execution_count": 1,
   "id": "b60ac1f1",
   "metadata": {},
   "outputs": [
    {
     "name": "stdout",
     "output_type": "stream",
     "text": [
      "PassengerId\tSurvived\tPclass\tName\tSex\tAge\tSibSp\tParch\tTicket\tFare\tCabin\tEmbarked\tship\n",
      "1\t0\t3\t\"Braund, Mr. Owen Harris\"\tmale\t22\t1\t0\t\"A/5 21171\"\t7,25\t\tS\tTitanic\n",
      "2\t1\t1\t\"Cumings, Mrs. John Bradley (Florence Briggs Thayer)\"\tfemale\t38\t1\t0\t\"PC 17599\"\t71,2833\tC85\tC\tTitanic\n",
      "3\t1\t3\t\"Heikkinen, Miss. Laina\"\tfemale\t26\t0\t0\t\"STON/O2. 3101282\"\t7,925\t\tS\tTitanic\n",
      "4\t1\t1\t\"Futrelle, Mrs. Jacques Heath (Lily May Peel)\"\tfemale\t35\t1\t0\t113803\t53,1\tC123\tS\tTitanic\n"
     ]
    }
   ],
   "source": [
    "file_name = 'TitanicMess.tsv'\n",
    "\n",
    "!head -n 5 {file_name}"
   ]
  },
  {
   "cell_type": "markdown",
   "id": "e2bbb650",
   "metadata": {},
   "source": [
    "## Wczytanie pliku\n",
    "\n",
    "Na podstawie powyższego wyniku możemy stwierdzić że: \n",
    "- kolumny naszego zbioru danych są odzielone tabulatorami\n",
    "- w zbiorze występują wartości numeryczne, lecz jako separator wykorzystano znak `,`\n",
    "- zbiór zawiera unikalny identyfikator pasażera"
   ]
  },
  {
   "cell_type": "code",
   "execution_count": 2,
   "id": "adfdffb5",
   "metadata": {},
   "outputs": [],
   "source": [
    "import pandas as pd\n",
    "import numpy as np\n",
    "import re\n",
    "from functools import reduce, partial, partialmethod"
   ]
  },
  {
   "cell_type": "code",
   "execution_count": 3,
   "id": "53a7ed7f",
   "metadata": {},
   "outputs": [
    {
     "name": "stdout",
     "output_type": "stream",
     "text": [
      "Number of rows: 892, number of columns 12\n"
     ]
    },
    {
     "data": {
      "text/html": [
       "<div>\n",
       "<style scoped>\n",
       "    .dataframe tbody tr th:only-of-type {\n",
       "        vertical-align: middle;\n",
       "    }\n",
       "\n",
       "    .dataframe tbody tr th {\n",
       "        vertical-align: top;\n",
       "    }\n",
       "\n",
       "    .dataframe thead th {\n",
       "        text-align: right;\n",
       "    }\n",
       "</style>\n",
       "<table border=\"1\" class=\"dataframe\">\n",
       "  <thead>\n",
       "    <tr style=\"text-align: right;\">\n",
       "      <th></th>\n",
       "      <th>Survived</th>\n",
       "      <th>Pclass</th>\n",
       "      <th>Name</th>\n",
       "      <th>Sex</th>\n",
       "      <th>Age</th>\n",
       "      <th>SibSp</th>\n",
       "      <th>Parch</th>\n",
       "      <th>Ticket</th>\n",
       "      <th>Fare</th>\n",
       "      <th>Cabin</th>\n",
       "      <th>Embarked</th>\n",
       "      <th>ship</th>\n",
       "    </tr>\n",
       "    <tr>\n",
       "      <th>PassengerId</th>\n",
       "      <th></th>\n",
       "      <th></th>\n",
       "      <th></th>\n",
       "      <th></th>\n",
       "      <th></th>\n",
       "      <th></th>\n",
       "      <th></th>\n",
       "      <th></th>\n",
       "      <th></th>\n",
       "      <th></th>\n",
       "      <th></th>\n",
       "      <th></th>\n",
       "    </tr>\n",
       "  </thead>\n",
       "  <tbody>\n",
       "    <tr>\n",
       "      <th>1</th>\n",
       "      <td>0</td>\n",
       "      <td>3</td>\n",
       "      <td>Braund, Mr. Owen Harris</td>\n",
       "      <td>male</td>\n",
       "      <td>22</td>\n",
       "      <td>1</td>\n",
       "      <td>0</td>\n",
       "      <td>A/5 21171</td>\n",
       "      <td>7,25</td>\n",
       "      <td>NaN</td>\n",
       "      <td>S</td>\n",
       "      <td>Titanic</td>\n",
       "    </tr>\n",
       "    <tr>\n",
       "      <th>2</th>\n",
       "      <td>1</td>\n",
       "      <td>1</td>\n",
       "      <td>Cumings, Mrs. John Bradley (Florence Briggs Th...</td>\n",
       "      <td>female</td>\n",
       "      <td>38</td>\n",
       "      <td>1</td>\n",
       "      <td>0</td>\n",
       "      <td>PC 17599</td>\n",
       "      <td>71,2833</td>\n",
       "      <td>C85</td>\n",
       "      <td>C</td>\n",
       "      <td>Titanic</td>\n",
       "    </tr>\n",
       "    <tr>\n",
       "      <th>3</th>\n",
       "      <td>1</td>\n",
       "      <td>3</td>\n",
       "      <td>Heikkinen, Miss. Laina</td>\n",
       "      <td>female</td>\n",
       "      <td>26</td>\n",
       "      <td>0</td>\n",
       "      <td>0</td>\n",
       "      <td>STON/O2. 3101282</td>\n",
       "      <td>7,925</td>\n",
       "      <td>NaN</td>\n",
       "      <td>S</td>\n",
       "      <td>Titanic</td>\n",
       "    </tr>\n",
       "    <tr>\n",
       "      <th>4</th>\n",
       "      <td>1</td>\n",
       "      <td>1</td>\n",
       "      <td>Futrelle, Mrs. Jacques Heath (Lily May Peel)</td>\n",
       "      <td>female</td>\n",
       "      <td>35</td>\n",
       "      <td>1</td>\n",
       "      <td>0</td>\n",
       "      <td>113803</td>\n",
       "      <td>53,1</td>\n",
       "      <td>C123</td>\n",
       "      <td>S</td>\n",
       "      <td>Titanic</td>\n",
       "    </tr>\n",
       "    <tr>\n",
       "      <th>5</th>\n",
       "      <td>0</td>\n",
       "      <td>3</td>\n",
       "      <td>Allen, Mr. William Henry</td>\n",
       "      <td>male</td>\n",
       "      <td>35</td>\n",
       "      <td>0</td>\n",
       "      <td>0</td>\n",
       "      <td>373450</td>\n",
       "      <td>8,05</td>\n",
       "      <td>NaN</td>\n",
       "      <td>S</td>\n",
       "      <td>Titanic</td>\n",
       "    </tr>\n",
       "  </tbody>\n",
       "</table>\n",
       "</div>"
      ],
      "text/plain": [
       "             Survived  Pclass  \\\n",
       "PassengerId                     \n",
       "1                   0       3   \n",
       "2                   1       1   \n",
       "3                   1       3   \n",
       "4                   1       1   \n",
       "5                   0       3   \n",
       "\n",
       "                                                          Name     Sex Age  \\\n",
       "PassengerId                                                                  \n",
       "1                                      Braund, Mr. Owen Harris    male  22   \n",
       "2            Cumings, Mrs. John Bradley (Florence Briggs Th...  female  38   \n",
       "3                                       Heikkinen, Miss. Laina  female  26   \n",
       "4                 Futrelle, Mrs. Jacques Heath (Lily May Peel)  female  35   \n",
       "5                                     Allen, Mr. William Henry    male  35   \n",
       "\n",
       "             SibSp  Parch            Ticket     Fare Cabin Embarked     ship  \n",
       "PassengerId                                                                   \n",
       "1                1      0         A/5 21171     7,25   NaN        S  Titanic  \n",
       "2                1      0          PC 17599  71,2833   C85        C  Titanic  \n",
       "3                0      0  STON/O2. 3101282    7,925   NaN        S  Titanic  \n",
       "4                1      0            113803     53,1  C123        S  Titanic  \n",
       "5                0      0            373450     8,05   NaN        S  Titanic  "
      ]
     },
     "execution_count": 3,
     "metadata": {},
     "output_type": "execute_result"
    }
   ],
   "source": [
    "read_csv_args = {\n",
    "    'sep': '\\t',\n",
    "    'index_col': 'PassengerId',\n",
    "    'decimal': ','\n",
    "}\n",
    "\n",
    "df = pd.read_csv(file_name, **read_csv_args)\n",
    "print('Number of rows: {}, number of columns {}'.format(df.shape[0], df.shape[1]))\n",
    "df.head()"
   ]
  },
  {
   "cell_type": "markdown",
   "id": "d55039c0",
   "metadata": {},
   "source": [
    "## Konwersja typów\n",
    "\n",
    "Przetwarzanie danych zaczniemy od sprawdzenie poprawności inferencji typów kolumn. Warto zwrócić uwagę na fakt, że wartości typu `string` będą wyświelone jako `object`."
   ]
  },
  {
   "cell_type": "code",
   "execution_count": 4,
   "id": "1c5c013d",
   "metadata": {},
   "outputs": [
    {
     "data": {
      "text/plain": [
       "Survived     int64\n",
       "Pclass       int64\n",
       "Name        object\n",
       "Sex         object\n",
       "Age         object\n",
       "SibSp        int64\n",
       "Parch        int64\n",
       "Ticket      object\n",
       "Fare        object\n",
       "Cabin       object\n",
       "Embarked    object\n",
       "ship        object\n",
       "dtype: object"
      ]
     },
     "execution_count": 4,
     "metadata": {},
     "output_type": "execute_result"
    }
   ],
   "source": [
    "df.dtypes"
   ]
  },
  {
   "cell_type": "markdown",
   "id": "8c2469cb",
   "metadata": {},
   "source": [
    "### Rzutowanie na wartości numeryczne\n",
    "\n",
    "Możemy stwierdzić, że wartości atrybutów `Age` i `Fare` nie zostały wczytane poprawnie. Mogło to być spowodowane brakującymi wartościami lub niepoprawnym formatem liczb.\n",
    "\n",
    "W pierwszej komórce zadeklarowano funkcje pomocniczne, a w następnej wykorzystano je do rzutowania liczb. Ostatecznie ponownie sprawdzono typy kolumn."
   ]
  },
  {
   "cell_type": "code",
   "execution_count": 5,
   "id": "5c20e498",
   "metadata": {},
   "outputs": [],
   "source": [
    "def compose2(f, g):\n",
    "    return lambda a: f(g(a))\n",
    "\n",
    "def compose(*fs):\n",
    "    return reduce(compose2, reversed(fs))\n",
    "\n",
    "def apply_regexes(regex_dict):\n",
    "    def apply_regexes_to_value(value):\n",
    "        if type(value) is not str:\n",
    "            return value\n",
    "        \n",
    "        return reduce(\n",
    "            lambda value, regex_replacement: re.sub(*regex_replacement, value),\n",
    "            regex_dict.items(),\n",
    "            value\n",
    "        )\n",
    "    \n",
    "    return apply_regexes_to_value\n",
    "\n",
    "\n",
    "parse_series_to_numeric = compose(\n",
    "    apply_regexes({ '[a-z]': '', ',': '.' }),\n",
    "    pd.to_numeric,\n",
    ")"
   ]
  },
  {
   "cell_type": "code",
   "execution_count": 6,
   "id": "4cf9e91a",
   "metadata": {},
   "outputs": [],
   "source": [
    "series_to_parse = ['Age', 'Fare']\n",
    "\n",
    "for series_name in series_to_parse:\n",
    "    df[series_name] = df[series_name].apply(parse_series_to_numeric)"
   ]
  },
  {
   "cell_type": "code",
   "execution_count": 7,
   "id": "4c7c38ee",
   "metadata": {},
   "outputs": [
    {
     "data": {
      "text/plain": [
       "Survived      int64\n",
       "Pclass        int64\n",
       "Name         object\n",
       "Sex          object\n",
       "Age         float64\n",
       "SibSp         int64\n",
       "Parch         int64\n",
       "Ticket       object\n",
       "Fare        float64\n",
       "Cabin        object\n",
       "Embarked     object\n",
       "ship         object\n",
       "dtype: object"
      ]
     },
     "execution_count": 7,
     "metadata": {},
     "output_type": "execute_result"
    }
   ],
   "source": [
    "df.dtypes"
   ]
  },
  {
   "cell_type": "code",
   "execution_count": 8,
   "id": "e6b59fa4",
   "metadata": {},
   "outputs": [
    {
     "data": {
      "text/plain": [
       "(892, 12)"
      ]
     },
     "execution_count": 8,
     "metadata": {},
     "output_type": "execute_result"
    }
   ],
   "source": [
    "df.shape"
   ]
  },
  {
   "cell_type": "markdown",
   "id": "799890da",
   "metadata": {},
   "source": [
    "## Obsługa brakujących wartości\n",
    "\n",
    "Za pomocą poniższego fragmentu kodu, sprawdzono ilość wartości `NaN` w każdej kolumnie."
   ]
  },
  {
   "cell_type": "code",
   "execution_count": 9,
   "id": "f7b10518",
   "metadata": {},
   "outputs": [
    {
     "data": {
      "text/plain": [
       "Survived      0\n",
       "Pclass        0\n",
       "Name          0\n",
       "Sex           0\n",
       "Age         173\n",
       "SibSp         0\n",
       "Parch         0\n",
       "Ticket        0\n",
       "Fare          0\n",
       "Cabin       685\n",
       "Embarked      2\n",
       "ship          0\n",
       "dtype: int64"
      ]
     },
     "execution_count": 9,
     "metadata": {},
     "output_type": "execute_result"
    }
   ],
   "source": [
    "df.isnull().sum()"
   ]
  },
  {
   "cell_type": "markdown",
   "id": "025cea47",
   "metadata": {},
   "source": [
    "### Atrybut `Cabin`\n",
    "\n",
    "Ponieważ ilość brakujących wartości stanowi ponad 75% zbioru danych, postanowiono opuścić tą kolumnę w dalszej analizie."
   ]
  },
  {
   "cell_type": "code",
   "execution_count": 10,
   "id": "38fabfbf",
   "metadata": {},
   "outputs": [],
   "source": [
    "columns_to_drop = ['Cabin']\n",
    "\n",
    "df = df.drop(columns=columns_to_drop)"
   ]
  },
  {
   "cell_type": "markdown",
   "id": "9232b204",
   "metadata": {},
   "source": [
    "### Atrybut `Age`\n",
    "\n",
    "Ilość brakujących wartości jest znacząca, lecz stanowi poniżej 20% całego zbioru. Z tego powodu zdecydowano się uzupełnić brakujące wartości średnią."
   ]
  },
  {
   "cell_type": "code",
   "execution_count": 11,
   "id": "3c97fcd0",
   "metadata": {},
   "outputs": [],
   "source": [
    "def replace_nan_with_avg(df, series):\n",
    "    for series_name in series:\n",
    "        non_nan = df[series_name].notnull()\n",
    "        avg = df[series_name][non_nan].mean()\n",
    "        \n",
    "        df.loc[~non_nan, series_name] = avg\n",
    "    \n",
    "    return df"
   ]
  },
  {
   "cell_type": "code",
   "execution_count": 12,
   "id": "e89441ab",
   "metadata": {},
   "outputs": [],
   "source": [
    "columns_to_replace_with_avg = ['Age']\n",
    "\n",
    "df = replace_nan_with_avg(df, columns_to_replace_with_avg)"
   ]
  },
  {
   "cell_type": "markdown",
   "id": "afd454bb",
   "metadata": {},
   "source": [
    "### Atrybut `Embarked`\n",
    "\n",
    "Ponieważ istnieją jedynie dwa wiersze pozbawione tej wartości, możemy je opuścić z dalszej analizy."
   ]
  },
  {
   "cell_type": "code",
   "execution_count": 13,
   "id": "07b9d2fc",
   "metadata": {},
   "outputs": [],
   "source": [
    "df = df.dropna()"
   ]
  },
  {
   "cell_type": "markdown",
   "id": "77a2077f",
   "metadata": {},
   "source": [
    "### Ponownie sprawdzamy ilość brakujących wartości oraz wymiary zbioru"
   ]
  },
  {
   "cell_type": "code",
   "execution_count": 14,
   "id": "a2b1a553",
   "metadata": {},
   "outputs": [
    {
     "name": "stdout",
     "output_type": "stream",
     "text": [
      "Number of rows: 890, number of columns 11\n"
     ]
    },
    {
     "data": {
      "text/plain": [
       "Survived    0\n",
       "Pclass      0\n",
       "Name        0\n",
       "Sex         0\n",
       "Age         0\n",
       "SibSp       0\n",
       "Parch       0\n",
       "Ticket      0\n",
       "Fare        0\n",
       "Embarked    0\n",
       "ship        0\n",
       "dtype: int64"
      ]
     },
     "execution_count": 14,
     "metadata": {},
     "output_type": "execute_result"
    }
   ],
   "source": [
    "print('Number of rows: {}, number of columns {}'.format(df.shape[0], df.shape[1]))\n",
    "df.isnull().sum()"
   ]
  },
  {
   "cell_type": "markdown",
   "id": "92026034",
   "metadata": {},
   "source": [
    "## Analiza wartości kategorycznych\n",
    "\n",
    "W celu sprawdzenia jakości pozostałych atrybutów, wyświelamy ich unikalne wartości."
   ]
  },
  {
   "cell_type": "code",
   "execution_count": 15,
   "id": "cd17eb9f",
   "metadata": {},
   "outputs": [
    {
     "name": "stdout",
     "output_type": "stream",
     "text": [
      "\n",
      "Unique values in columns:\n",
      "Survived: [0 1]\n",
      "Pclass: [3 1 2]\n",
      "Sex: ['male' 'female' 'malef' 'mal' 'fem' 'femmale']\n",
      "Embarked: ['S' 'C' 'Q' 'So' 'Co' 'Qe']\n",
      "ship: ['Titanic']\n",
      "\n"
     ]
    }
   ],
   "source": [
    "print('''\n",
    "Unique values in columns:\n",
    "Survived: {}\n",
    "Pclass: {}\n",
    "Sex: {}\n",
    "Embarked: {}\n",
    "ship: {}\n",
    "'''.format(\n",
    "    df['Survived'].unique(),\n",
    "    df['Pclass'].unique(),\n",
    "    df['Sex'].unique(),\n",
    "    df['Embarked'].unique(),\n",
    "    df['ship'].unique(),\n",
    "))"
   ]
  },
  {
   "cell_type": "markdown",
   "id": "2bcdf54c",
   "metadata": {},
   "source": [
    "### Atrybut `ship`\n",
    "\n",
    "Jak można zauważyć, atrybut `ship` przyjmuje tą samą wartość dla wszystkich wierszy, przez co nie będzie zbyt użyteczny w analizie danych. Z tego powodu zdecydowano się na jego pominięcie."
   ]
  },
  {
   "cell_type": "code",
   "execution_count": 16,
   "id": "4d134a5c",
   "metadata": {},
   "outputs": [],
   "source": [
    "columns_to_drop = ['ship']\n",
    "\n",
    "df = df.drop(columns=columns_to_drop)"
   ]
  },
  {
   "cell_type": "markdown",
   "id": "58deb782",
   "metadata": {},
   "source": [
    "### Atrybut `Sex`\n",
    "\n",
    "Jak widać w wartościach atrybutu istnieją literówki. W celu poprawienia wartości przyjęto huerystykę mówiącą że wartość atrybutu zawierającą `fe` kwalifikujemy jako płeć żeńską."
   ]
  },
  {
   "cell_type": "code",
   "execution_count": 17,
   "id": "2ba12e0e",
   "metadata": {},
   "outputs": [],
   "source": [
    "is_female = lambda sex_str: 'fe' in sex_str\n",
    "to_sex_str = lambda is_female: 'female' if is_female else 'male'\n",
    "normalize_sex = compose(\n",
    "    is_female,\n",
    "    to_sex_str,\n",
    ")\n",
    "\n",
    "df['Sex'] = df['Sex'].apply(normalize_sex)"
   ]
  },
  {
   "cell_type": "code",
   "execution_count": 18,
   "id": "c3668fe0",
   "metadata": {},
   "outputs": [
    {
     "name": "stdout",
     "output_type": "stream",
     "text": [
      "\n",
      "Unique values of 'Sex' attribute: ['male' 'female']\n",
      "Number of female/male passengers: 312 / 578\n",
      "\n"
     ]
    }
   ],
   "source": [
    "print('''\n",
    "Unique values of 'Sex' attribute: {}\n",
    "Number of female/male passengers: {} / {}\n",
    "'''.format(\n",
    "    df['Sex'].unique(),\n",
    "    (df['Sex'] == 'female').sum(),\n",
    "    (df['Sex'] == 'male').sum(),\n",
    "))"
   ]
  },
  {
   "cell_type": "markdown",
   "id": "90a78853",
   "metadata": {},
   "source": [
    "### Atrybut `Embarked`\n",
    "\n",
    "Można założyć, że błędnie wprowadzano wartości atrybutu poprzez podawanie pierwszej lub pierwszej i drugiej litery kodującej port. Postanowiono opuścić wszystkie litery kodów poza pierwszą."
   ]
  },
  {
   "cell_type": "code",
   "execution_count": 19,
   "id": "2911ca10",
   "metadata": {},
   "outputs": [],
   "source": [
    "normalize_embarked = lambda location_code: location_code[:1]\n",
    "\n",
    "df['Embarked'] = df['Embarked'].apply(normalize_embarked)"
   ]
  },
  {
   "cell_type": "code",
   "execution_count": 20,
   "id": "834b0612",
   "metadata": {},
   "outputs": [
    {
     "name": "stdout",
     "output_type": "stream",
     "text": [
      "\n",
      "Unique values of 'Embarked' attribute: ['S' 'C' 'Q']\n",
      "Number of S/C/Q passengers: 645 / 168 / 77\n",
      "\n"
     ]
    }
   ],
   "source": [
    "print('''\n",
    "Unique values of 'Embarked' attribute: {}\n",
    "Number of S/C/Q passengers: {} / {} / {}\n",
    "'''.format(\n",
    "    df['Embarked'].unique(),\n",
    "    (df['Embarked'] == 'S').sum(),\n",
    "    (df['Embarked'] == 'C').sum(),\n",
    "    (df['Embarked'] == 'Q').sum(),\n",
    "))"
   ]
  },
  {
   "cell_type": "markdown",
   "id": "f47aca0c",
   "metadata": {},
   "source": [
    "## Analiza poprawności wartości numerycznych\n",
    "\n",
    "W celu sprawdzenia poprawności wartości numerycznych, wyznaczono ich podstawowe statystyki."
   ]
  },
  {
   "cell_type": "code",
   "execution_count": 21,
   "id": "784cbb01",
   "metadata": {},
   "outputs": [
    {
     "data": {
      "text/html": [
       "<div>\n",
       "<style scoped>\n",
       "    .dataframe tbody tr th:only-of-type {\n",
       "        vertical-align: middle;\n",
       "    }\n",
       "\n",
       "    .dataframe tbody tr th {\n",
       "        vertical-align: top;\n",
       "    }\n",
       "\n",
       "    .dataframe thead th {\n",
       "        text-align: right;\n",
       "    }\n",
       "</style>\n",
       "<table border=\"1\" class=\"dataframe\">\n",
       "  <thead>\n",
       "    <tr style=\"text-align: right;\">\n",
       "      <th></th>\n",
       "      <th>Survived</th>\n",
       "      <th>Pclass</th>\n",
       "      <th>Age</th>\n",
       "      <th>SibSp</th>\n",
       "      <th>Parch</th>\n",
       "      <th>Fare</th>\n",
       "    </tr>\n",
       "  </thead>\n",
       "  <tbody>\n",
       "    <tr>\n",
       "      <th>count</th>\n",
       "      <td>890.000000</td>\n",
       "      <td>890.000000</td>\n",
       "      <td>890.000000</td>\n",
       "      <td>890.000000</td>\n",
       "      <td>890.00000</td>\n",
       "      <td>890.000000</td>\n",
       "    </tr>\n",
       "    <tr>\n",
       "      <th>mean</th>\n",
       "      <td>0.385393</td>\n",
       "      <td>2.310112</td>\n",
       "      <td>35.897546</td>\n",
       "      <td>0.526966</td>\n",
       "      <td>0.37191</td>\n",
       "      <td>31.966488</td>\n",
       "    </tr>\n",
       "    <tr>\n",
       "      <th>std</th>\n",
       "      <td>0.486962</td>\n",
       "      <td>0.835388</td>\n",
       "      <td>148.414757</td>\n",
       "      <td>1.103147</td>\n",
       "      <td>0.76913</td>\n",
       "      <td>49.873745</td>\n",
       "    </tr>\n",
       "    <tr>\n",
       "      <th>min</th>\n",
       "      <td>0.000000</td>\n",
       "      <td>1.000000</td>\n",
       "      <td>-12.000000</td>\n",
       "      <td>0.000000</td>\n",
       "      <td>0.00000</td>\n",
       "      <td>-90.000000</td>\n",
       "    </tr>\n",
       "    <tr>\n",
       "      <th>25%</th>\n",
       "      <td>0.000000</td>\n",
       "      <td>2.000000</td>\n",
       "      <td>22.000000</td>\n",
       "      <td>0.000000</td>\n",
       "      <td>0.00000</td>\n",
       "      <td>7.895800</td>\n",
       "    </tr>\n",
       "    <tr>\n",
       "      <th>50%</th>\n",
       "      <td>0.000000</td>\n",
       "      <td>3.000000</td>\n",
       "      <td>32.000000</td>\n",
       "      <td>0.000000</td>\n",
       "      <td>0.00000</td>\n",
       "      <td>14.454200</td>\n",
       "    </tr>\n",
       "    <tr>\n",
       "      <th>75%</th>\n",
       "      <td>1.000000</td>\n",
       "      <td>3.000000</td>\n",
       "      <td>35.929166</td>\n",
       "      <td>1.000000</td>\n",
       "      <td>0.00000</td>\n",
       "      <td>30.646850</td>\n",
       "    </tr>\n",
       "    <tr>\n",
       "      <th>max</th>\n",
       "      <td>1.000000</td>\n",
       "      <td>3.000000</td>\n",
       "      <td>4435.000000</td>\n",
       "      <td>8.000000</td>\n",
       "      <td>5.00000</td>\n",
       "      <td>512.329200</td>\n",
       "    </tr>\n",
       "  </tbody>\n",
       "</table>\n",
       "</div>"
      ],
      "text/plain": [
       "         Survived      Pclass          Age       SibSp      Parch        Fare\n",
       "count  890.000000  890.000000   890.000000  890.000000  890.00000  890.000000\n",
       "mean     0.385393    2.310112    35.897546    0.526966    0.37191   31.966488\n",
       "std      0.486962    0.835388   148.414757    1.103147    0.76913   49.873745\n",
       "min      0.000000    1.000000   -12.000000    0.000000    0.00000  -90.000000\n",
       "25%      0.000000    2.000000    22.000000    0.000000    0.00000    7.895800\n",
       "50%      0.000000    3.000000    32.000000    0.000000    0.00000   14.454200\n",
       "75%      1.000000    3.000000    35.929166    1.000000    0.00000   30.646850\n",
       "max      1.000000    3.000000  4435.000000    8.000000    5.00000  512.329200"
      ]
     },
     "execution_count": 21,
     "metadata": {},
     "output_type": "execute_result"
    }
   ],
   "source": [
    "df.describe()"
   ]
  },
  {
   "cell_type": "markdown",
   "id": "753d1a25",
   "metadata": {},
   "source": [
    "Można zauważyć, że istnieją nieprawidłowe wartości atrybutu `Age` oraz `Fare`. Założono, że ujemne wartości są błędem który należy poprawić poprzez branie pod uwagę wartości bezwzględnej."
   ]
  },
  {
   "cell_type": "code",
   "execution_count": 22,
   "id": "e0496491",
   "metadata": {},
   "outputs": [],
   "source": [
    "columns_to_abs = ['Age', 'Fare']\n",
    "\n",
    "df[columns_to_abs] = df[columns_to_abs].abs()"
   ]
  },
  {
   "cell_type": "markdown",
   "id": "52646d13",
   "metadata": {},
   "source": [
    "Następnie zauważono nieprawidłowe wartości wieku, które przekraczają rozsądny zakres wartości.\n",
    "Ponieważ były tylko dwa wiersze w których wiek pasażera przekraczał 150 lat, zdecydowano się je usunąć."
   ]
  },
  {
   "cell_type": "code",
   "execution_count": 23,
   "id": "d848f161",
   "metadata": {},
   "outputs": [],
   "source": [
    "AGE_LIMIT = 150\n",
    "rows_to_drop = df[df['Age'] > AGE_LIMIT]\n",
    "\n",
    "df = df.drop(rows_to_drop.index)"
   ]
  },
  {
   "cell_type": "code",
   "execution_count": 24,
   "id": "49773dc6",
   "metadata": {},
   "outputs": [
    {
     "data": {
      "text/html": [
       "<div>\n",
       "<style scoped>\n",
       "    .dataframe tbody tr th:only-of-type {\n",
       "        vertical-align: middle;\n",
       "    }\n",
       "\n",
       "    .dataframe tbody tr th {\n",
       "        vertical-align: top;\n",
       "    }\n",
       "\n",
       "    .dataframe thead th {\n",
       "        text-align: right;\n",
       "    }\n",
       "</style>\n",
       "<table border=\"1\" class=\"dataframe\">\n",
       "  <thead>\n",
       "    <tr style=\"text-align: right;\">\n",
       "      <th></th>\n",
       "      <th>Survived</th>\n",
       "      <th>Pclass</th>\n",
       "      <th>Age</th>\n",
       "      <th>SibSp</th>\n",
       "      <th>Parch</th>\n",
       "      <th>Fare</th>\n",
       "    </tr>\n",
       "  </thead>\n",
       "  <tbody>\n",
       "    <tr>\n",
       "      <th>count</th>\n",
       "      <td>888.000000</td>\n",
       "      <td>888.000000</td>\n",
       "      <td>888.000000</td>\n",
       "      <td>888.000000</td>\n",
       "      <td>888.000000</td>\n",
       "      <td>888.000000</td>\n",
       "    </tr>\n",
       "    <tr>\n",
       "      <th>mean</th>\n",
       "      <td>0.386261</td>\n",
       "      <td>2.309685</td>\n",
       "      <td>30.736279</td>\n",
       "      <td>0.528153</td>\n",
       "      <td>0.372748</td>\n",
       "      <td>32.217656</td>\n",
       "    </tr>\n",
       "    <tr>\n",
       "      <th>std</th>\n",
       "      <td>0.487166</td>\n",
       "      <td>0.835943</td>\n",
       "      <td>13.354861</td>\n",
       "      <td>1.104105</td>\n",
       "      <td>0.769794</td>\n",
       "      <td>49.788584</td>\n",
       "    </tr>\n",
       "    <tr>\n",
       "      <th>min</th>\n",
       "      <td>0.000000</td>\n",
       "      <td>1.000000</td>\n",
       "      <td>0.420000</td>\n",
       "      <td>0.000000</td>\n",
       "      <td>0.000000</td>\n",
       "      <td>0.000000</td>\n",
       "    </tr>\n",
       "    <tr>\n",
       "      <th>25%</th>\n",
       "      <td>0.000000</td>\n",
       "      <td>2.000000</td>\n",
       "      <td>22.000000</td>\n",
       "      <td>0.000000</td>\n",
       "      <td>0.000000</td>\n",
       "      <td>7.917700</td>\n",
       "    </tr>\n",
       "    <tr>\n",
       "      <th>50%</th>\n",
       "      <td>0.000000</td>\n",
       "      <td>3.000000</td>\n",
       "      <td>32.000000</td>\n",
       "      <td>0.000000</td>\n",
       "      <td>0.000000</td>\n",
       "      <td>14.454200</td>\n",
       "    </tr>\n",
       "    <tr>\n",
       "      <th>75%</th>\n",
       "      <td>1.000000</td>\n",
       "      <td>3.000000</td>\n",
       "      <td>35.929166</td>\n",
       "      <td>1.000000</td>\n",
       "      <td>0.000000</td>\n",
       "      <td>30.771850</td>\n",
       "    </tr>\n",
       "    <tr>\n",
       "      <th>max</th>\n",
       "      <td>1.000000</td>\n",
       "      <td>3.000000</td>\n",
       "      <td>80.000000</td>\n",
       "      <td>8.000000</td>\n",
       "      <td>5.000000</td>\n",
       "      <td>512.329200</td>\n",
       "    </tr>\n",
       "  </tbody>\n",
       "</table>\n",
       "</div>"
      ],
      "text/plain": [
       "         Survived      Pclass         Age       SibSp       Parch        Fare\n",
       "count  888.000000  888.000000  888.000000  888.000000  888.000000  888.000000\n",
       "mean     0.386261    2.309685   30.736279    0.528153    0.372748   32.217656\n",
       "std      0.487166    0.835943   13.354861    1.104105    0.769794   49.788584\n",
       "min      0.000000    1.000000    0.420000    0.000000    0.000000    0.000000\n",
       "25%      0.000000    2.000000   22.000000    0.000000    0.000000    7.917700\n",
       "50%      0.000000    3.000000   32.000000    0.000000    0.000000   14.454200\n",
       "75%      1.000000    3.000000   35.929166    1.000000    0.000000   30.771850\n",
       "max      1.000000    3.000000   80.000000    8.000000    5.000000  512.329200"
      ]
     },
     "execution_count": 24,
     "metadata": {},
     "output_type": "execute_result"
    }
   ],
   "source": [
    "df.describe()"
   ]
  },
  {
   "cell_type": "markdown",
   "id": "0cb91559",
   "metadata": {},
   "source": [
    "## Zapis danych"
   ]
  },
  {
   "cell_type": "code",
   "execution_count": 25,
   "id": "ce445209",
   "metadata": {},
   "outputs": [],
   "source": [
    "df.to_csv('TitanicCleaned.csv')"
   ]
  }
 ],
 "metadata": {
  "kernelspec": {
   "display_name": "Python 3",
   "language": "python",
   "name": "python3"
  },
  "language_info": {
   "codemirror_mode": {
    "name": "ipython",
    "version": 3
   },
   "file_extension": ".py",
   "mimetype": "text/x-python",
   "name": "python",
   "nbconvert_exporter": "python",
   "pygments_lexer": "ipython3",
   "version": "3.8.9"
  }
 },
 "nbformat": 4,
 "nbformat_minor": 5
}
